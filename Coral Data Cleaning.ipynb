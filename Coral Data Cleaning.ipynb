{
 "cells": [
  {
   "cell_type": "code",
   "execution_count": 92,
   "id": "1eb7c922",
   "metadata": {},
   "outputs": [],
   "source": [
    "import pandas as pd\n",
    "import numpy as np"
   ]
  },
  {
   "cell_type": "code",
   "execution_count": 93,
   "id": "72bd5d87",
   "metadata": {
    "scrolled": true
   },
   "outputs": [
    {
     "name": "stderr",
     "output_type": "stream",
     "text": [
      "C:\\Users\\kogra\\AppData\\Local\\Temp\\ipykernel_19088\\1156495748.py:1: DtypeWarning: Columns (13,15,24) have mixed types. Specify dtype option on import or set low_memory=False.\n",
      "  coral = pd.read_csv(\"global_bleaching_environmental.csv\")\n"
     ]
    },
    {
     "data": {
      "text/html": [
       "<div>\n",
       "<style scoped>\n",
       "    .dataframe tbody tr th:only-of-type {\n",
       "        vertical-align: middle;\n",
       "    }\n",
       "\n",
       "    .dataframe tbody tr th {\n",
       "        vertical-align: top;\n",
       "    }\n",
       "\n",
       "    .dataframe thead th {\n",
       "        text-align: right;\n",
       "    }\n",
       "</style>\n",
       "<table border=\"1\" class=\"dataframe\">\n",
       "  <thead>\n",
       "    <tr style=\"text-align: right;\">\n",
       "      <th></th>\n",
       "      <th>Site_ID</th>\n",
       "      <th>Sample_ID</th>\n",
       "      <th>Data_Source</th>\n",
       "      <th>Latitude_Degrees</th>\n",
       "      <th>Longitude_Degrees</th>\n",
       "      <th>Ocean_Name</th>\n",
       "      <th>Reef_ID</th>\n",
       "      <th>Realm_Name</th>\n",
       "      <th>Ecoregion_Name</th>\n",
       "      <th>Country_Name</th>\n",
       "      <th>...</th>\n",
       "      <th>TSA_FrequencyMax</th>\n",
       "      <th>TSA_FrequencyMean</th>\n",
       "      <th>TSA_DHW</th>\n",
       "      <th>TSA_DHW_Standard_Deviation</th>\n",
       "      <th>TSA_DHWMax</th>\n",
       "      <th>TSA_DHWMean</th>\n",
       "      <th>Date</th>\n",
       "      <th>Site_Comments</th>\n",
       "      <th>Sample_Comments</th>\n",
       "      <th>Bleaching_Comments</th>\n",
       "    </tr>\n",
       "  </thead>\n",
       "  <tbody>\n",
       "    <tr>\n",
       "      <th>0</th>\n",
       "      <td>2501</td>\n",
       "      <td>10324336</td>\n",
       "      <td>Donner</td>\n",
       "      <td>23.163</td>\n",
       "      <td>-82.5260</td>\n",
       "      <td>Atlantic</td>\n",
       "      <td>NaN</td>\n",
       "      <td>Tropical Atlantic</td>\n",
       "      <td>Cuba and Cayman Islands</td>\n",
       "      <td>Cuba</td>\n",
       "      <td>...</td>\n",
       "      <td>5</td>\n",
       "      <td>0</td>\n",
       "      <td>0</td>\n",
       "      <td>0.74</td>\n",
       "      <td>7.25</td>\n",
       "      <td>0.18</td>\n",
       "      <td>2005-09-15</td>\n",
       "      <td>NaN</td>\n",
       "      <td>NaN</td>\n",
       "      <td>NaN</td>\n",
       "    </tr>\n",
       "    <tr>\n",
       "      <th>1</th>\n",
       "      <td>3467</td>\n",
       "      <td>10324754</td>\n",
       "      <td>Donner</td>\n",
       "      <td>-17.575</td>\n",
       "      <td>-149.7833</td>\n",
       "      <td>Pacific</td>\n",
       "      <td>NaN</td>\n",
       "      <td>Eastern Indo-Pacific</td>\n",
       "      <td>Society Islands French Polynesia</td>\n",
       "      <td>French Polynesia</td>\n",
       "      <td>...</td>\n",
       "      <td>4</td>\n",
       "      <td>0</td>\n",
       "      <td>0.26</td>\n",
       "      <td>0.67</td>\n",
       "      <td>4.65</td>\n",
       "      <td>0.19</td>\n",
       "      <td>1991-03-15</td>\n",
       "      <td>The bleaching does not  appear to have gained ...</td>\n",
       "      <td>The bleaching does not  appear to have gained ...</td>\n",
       "      <td>NaN</td>\n",
       "    </tr>\n",
       "    <tr>\n",
       "      <th>2</th>\n",
       "      <td>1794</td>\n",
       "      <td>10323866</td>\n",
       "      <td>Donner</td>\n",
       "      <td>18.369</td>\n",
       "      <td>-64.5640</td>\n",
       "      <td>Atlantic</td>\n",
       "      <td>NaN</td>\n",
       "      <td>Tropical Atlantic</td>\n",
       "      <td>Hispaniola Puerto Rico and Lesser Antilles</td>\n",
       "      <td>United Kingdom</td>\n",
       "      <td>...</td>\n",
       "      <td>7</td>\n",
       "      <td>0</td>\n",
       "      <td>0</td>\n",
       "      <td>1.04</td>\n",
       "      <td>11.66</td>\n",
       "      <td>0.26</td>\n",
       "      <td>2006-01-15</td>\n",
       "      <td>NaN</td>\n",
       "      <td>NaN</td>\n",
       "      <td>NaN</td>\n",
       "    </tr>\n",
       "    <tr>\n",
       "      <th>3</th>\n",
       "      <td>8647</td>\n",
       "      <td>10328028</td>\n",
       "      <td>Donner</td>\n",
       "      <td>17.760</td>\n",
       "      <td>-64.5680</td>\n",
       "      <td>Atlantic</td>\n",
       "      <td>NaN</td>\n",
       "      <td>Tropical Atlantic</td>\n",
       "      <td>Hispaniola Puerto Rico and Lesser Antilles</td>\n",
       "      <td>United States</td>\n",
       "      <td>...</td>\n",
       "      <td>4</td>\n",
       "      <td>0</td>\n",
       "      <td>0</td>\n",
       "      <td>0.75</td>\n",
       "      <td>5.64</td>\n",
       "      <td>0.2</td>\n",
       "      <td>2006-04-15</td>\n",
       "      <td>NaN</td>\n",
       "      <td>NaN</td>\n",
       "      <td>NaN</td>\n",
       "    </tr>\n",
       "    <tr>\n",
       "      <th>4</th>\n",
       "      <td>8648</td>\n",
       "      <td>10328029</td>\n",
       "      <td>Donner</td>\n",
       "      <td>17.769</td>\n",
       "      <td>-64.5830</td>\n",
       "      <td>Atlantic</td>\n",
       "      <td>NaN</td>\n",
       "      <td>Tropical Atlantic</td>\n",
       "      <td>Hispaniola Puerto Rico and Lesser Antilles</td>\n",
       "      <td>United States</td>\n",
       "      <td>...</td>\n",
       "      <td>5</td>\n",
       "      <td>0</td>\n",
       "      <td>0</td>\n",
       "      <td>0.92</td>\n",
       "      <td>6.89</td>\n",
       "      <td>0.25</td>\n",
       "      <td>2006-04-15</td>\n",
       "      <td>NaN</td>\n",
       "      <td>NaN</td>\n",
       "      <td>NaN</td>\n",
       "    </tr>\n",
       "  </tbody>\n",
       "</table>\n",
       "<p>5 rows × 62 columns</p>\n",
       "</div>"
      ],
      "text/plain": [
       "   Site_ID  Sample_ID Data_Source  Latitude_Degrees  Longitude_Degrees  \\\n",
       "0     2501   10324336      Donner            23.163           -82.5260   \n",
       "1     3467   10324754      Donner           -17.575          -149.7833   \n",
       "2     1794   10323866      Donner            18.369           -64.5640   \n",
       "3     8647   10328028      Donner            17.760           -64.5680   \n",
       "4     8648   10328029      Donner            17.769           -64.5830   \n",
       "\n",
       "  Ocean_Name Reef_ID            Realm_Name  \\\n",
       "0   Atlantic     NaN     Tropical Atlantic   \n",
       "1    Pacific     NaN  Eastern Indo-Pacific   \n",
       "2   Atlantic     NaN     Tropical Atlantic   \n",
       "3   Atlantic     NaN     Tropical Atlantic   \n",
       "4   Atlantic     NaN     Tropical Atlantic   \n",
       "\n",
       "                               Ecoregion_Name      Country_Name  ...  \\\n",
       "0                     Cuba and Cayman Islands              Cuba  ...   \n",
       "1            Society Islands French Polynesia  French Polynesia  ...   \n",
       "2  Hispaniola Puerto Rico and Lesser Antilles    United Kingdom  ...   \n",
       "3  Hispaniola Puerto Rico and Lesser Antilles     United States  ...   \n",
       "4  Hispaniola Puerto Rico and Lesser Antilles     United States  ...   \n",
       "\n",
       "  TSA_FrequencyMax TSA_FrequencyMean TSA_DHW TSA_DHW_Standard_Deviation  \\\n",
       "0                5                 0       0                       0.74   \n",
       "1                4                 0    0.26                       0.67   \n",
       "2                7                 0       0                       1.04   \n",
       "3                4                 0       0                       0.75   \n",
       "4                5                 0       0                       0.92   \n",
       "\n",
       "  TSA_DHWMax TSA_DHWMean        Date  \\\n",
       "0       7.25        0.18  2005-09-15   \n",
       "1       4.65        0.19  1991-03-15   \n",
       "2      11.66        0.26  2006-01-15   \n",
       "3       5.64         0.2  2006-04-15   \n",
       "4       6.89        0.25  2006-04-15   \n",
       "\n",
       "                                       Site_Comments  \\\n",
       "0                                                NaN   \n",
       "1  The bleaching does not  appear to have gained ...   \n",
       "2                                                NaN   \n",
       "3                                                NaN   \n",
       "4                                                NaN   \n",
       "\n",
       "                                     Sample_Comments  Bleaching_Comments  \n",
       "0                                                NaN                 NaN  \n",
       "1  The bleaching does not  appear to have gained ...                 NaN  \n",
       "2                                                NaN                 NaN  \n",
       "3                                                NaN                 NaN  \n",
       "4                                                NaN                 NaN  \n",
       "\n",
       "[5 rows x 62 columns]"
      ]
     },
     "execution_count": 93,
     "metadata": {},
     "output_type": "execute_result"
    }
   ],
   "source": [
    "coral = pd.read_csv(\"global_bleaching_environmental.csv\")\n",
    "coral.replace('nd', np.nan, inplace=True)\n",
    "np.shape(coral)\n",
    "coral.dropna(subset=[\"Percent_Bleaching\"],inplace=True)\n",
    "coral[\"Percent_Bleaching\"]=coral[\"Percent_Bleaching\"].astype(float)\n",
    "coral.head()"
   ]
  },
  {
   "cell_type": "code",
   "execution_count": 94,
   "id": "8fb88812",
   "metadata": {},
   "outputs": [
    {
     "data": {
      "text/plain": [
       "(34515, 62)"
      ]
     },
     "execution_count": 94,
     "metadata": {},
     "output_type": "execute_result"
    }
   ],
   "source": [
    "np.shape(coral)"
   ]
  },
  {
   "cell_type": "code",
   "execution_count": 95,
   "id": "28f1c292",
   "metadata": {},
   "outputs": [
    {
     "data": {
      "text/plain": [
       "(34515, 37)"
      ]
     },
     "execution_count": 95,
     "metadata": {},
     "output_type": "execute_result"
    }
   ],
   "source": [
    "useless = [\"Data_Source\",\"Sample_Comments\",\"Bleaching_Comments\",\"Site_Comments\",\\\n",
    "           \"TSA_DHW_Standard_Deviation\",\"Date\",\"TSA_Frequency_Standard_Deviation\",\"TSA_Standard_Deviation\",\n",
    "          \"SSTA_DHW_Standard_Deviation\",\"SSTA_Frequency_Standard_Deviation\",\"SSTA_Standard_Deviation\",\\\n",
    "           \"Temperature_Kelvin_Standard_Deviation\",\"Site_Name\",\"State_Island_Province_Name\",\n",
    "          \"Country_Name\",\"Latitude_Degrees\",\"Longitude_Degrees\",\"City_Town_Name\",\"Reef_ID\",\n",
    "          \"Sample_ID\",\"Site_ID\",\"Date_Day\",\"Date_Month\",\"Date_Year\",\"SSTA_Mean\"]\n",
    "\n",
    "#SSTA_Mean is all 0 in the dataset\n",
    "\n",
    "coral.drop(columns=useless, inplace=True)\n",
    "np.shape(coral)"
   ]
  },
  {
   "cell_type": "code",
   "execution_count": 96,
   "id": "ac004fab",
   "metadata": {
    "scrolled": true
   },
   "outputs": [
    {
     "data": {
      "text/plain": [
       "Ocean_Name                 0\n",
       "Realm_Name                 0\n",
       "Ecoregion_Name             3\n",
       "Distance_to_Shore          2\n",
       "Exposure                   0\n",
       "Turbidity                  6\n",
       "Cyclone_Frequency          0\n",
       "Depth_m                 1681\n",
       "Substrate_Name         12047\n",
       "Percent_Cover          11842\n",
       "Bleaching_Level        11984\n",
       "Percent_Bleaching          0\n",
       "ClimSST                   95\n",
       "Temperature_Kelvin       122\n",
       "Temperature_Mean         106\n",
       "Temperature_Minimum      106\n",
       "Temperature_Maximum      106\n",
       "Windspeed                111\n",
       "SSTA                     122\n",
       "SSTA_Minimum             142\n",
       "SSTA_Maximum             106\n",
       "SSTA_Frequency           122\n",
       "SSTA_FrequencyMax        106\n",
       "SSTA_FrequencyMean       106\n",
       "SSTA_DHW                 122\n",
       "SSTA_DHWMax              106\n",
       "SSTA_DHWMean             106\n",
       "TSA                      122\n",
       "TSA_Minimum              106\n",
       "TSA_Maximum              106\n",
       "TSA_Mean                 106\n",
       "TSA_Frequency            122\n",
       "TSA_FrequencyMax         106\n",
       "TSA_FrequencyMean        106\n",
       "TSA_DHW                  122\n",
       "TSA_DHWMax               106\n",
       "TSA_DHWMean              106\n",
       "dtype: int64"
      ]
     },
     "execution_count": 96,
     "metadata": {},
     "output_type": "execute_result"
    }
   ],
   "source": [
    "coral.isna().sum()"
   ]
  },
  {
   "cell_type": "code",
   "execution_count": 97,
   "id": "dc518685",
   "metadata": {},
   "outputs": [
    {
     "data": {
      "text/plain": [
       "(34515, 15)"
      ]
     },
     "execution_count": 97,
     "metadata": {},
     "output_type": "execute_result"
    }
   ],
   "source": [
    "remove_maybe = [\"Substrate_Name\",\"Percent_Cover\",\"Bleaching_Level\",\"Ecoregion_Name\",\"Realm_Name\",\"ClimSST\"]\n",
    "#Ecoregion_Name has 100 unique values and Realm_Name (with 8 unique values) is more precise than Ocean_Name (with 5 unique values)\n",
    "coral.drop(columns=remove_maybe, inplace=True)\n",
    "\n",
    "remove_DHW = [\"SSTA_DHW\",\"SSTA_DHWMax\",\"SSTA_DHWMean\",\"TSA_DHW\",\"TSA_DHWMax\",\"TSA_DHWMean\"]\n",
    "#Remove DHW for simplicity and perhaps dependence with the frequency variables\n",
    "coral.drop(columns=remove_DHW, inplace=True)\n",
    "\n",
    "remove_TSA = [\"TSA\",\"TSA_Minimum\",\"TSA_Maximum\",\"TSA_Mean\",\"TSA_Frequency\",\"TSA_FrequencyMax\",\"TSA_FrequencyMean\"]\n",
    "#Remove TSA for simplicity and dependence\n",
    "coral.drop(columns=remove_TSA, inplace=True)\n",
    "\n",
    "remove_SSTA_unecessary = [\"SSTA_FrequencyMax\",\"SSTA_FrequencyMean\",\"SSTA_Minimum\"]\n",
    "#Remove extra SSTA for simplicity and dependence\n",
    "#Take out things like SSTA_FrequencyMax and SSTA_FrequencyMean to instead capture only year-long data which might highlight\n",
    "# The effects of recent climate change more rather than looking at decades-long intervals.\n",
    "coral.drop(columns=remove_SSTA_unecessary, inplace=True)\n",
    "\n",
    "np.shape(coral)"
   ]
  },
  {
   "cell_type": "code",
   "execution_count": 98,
   "id": "76b594b8",
   "metadata": {},
   "outputs": [],
   "source": [
    "coral.dropna(inplace=True)"
   ]
  },
  {
   "cell_type": "code",
   "execution_count": 99,
   "id": "62433aa6",
   "metadata": {},
   "outputs": [
    {
     "data": {
      "text/html": [
       "<div>\n",
       "<style scoped>\n",
       "    .dataframe tbody tr th:only-of-type {\n",
       "        vertical-align: middle;\n",
       "    }\n",
       "\n",
       "    .dataframe tbody tr th {\n",
       "        vertical-align: top;\n",
       "    }\n",
       "\n",
       "    .dataframe thead th {\n",
       "        text-align: right;\n",
       "    }\n",
       "</style>\n",
       "<table border=\"1\" class=\"dataframe\">\n",
       "  <thead>\n",
       "    <tr style=\"text-align: right;\">\n",
       "      <th></th>\n",
       "      <th>Ocean_Name</th>\n",
       "      <th>Distance_to_Shore</th>\n",
       "      <th>Exposure</th>\n",
       "      <th>Turbidity</th>\n",
       "      <th>Cyclone_Frequency</th>\n",
       "      <th>Depth_m</th>\n",
       "      <th>Percent_Bleaching</th>\n",
       "      <th>Temperature_Kelvin</th>\n",
       "      <th>Temperature_Mean</th>\n",
       "      <th>Temperature_Minimum</th>\n",
       "      <th>Temperature_Maximum</th>\n",
       "      <th>Windspeed</th>\n",
       "      <th>SSTA</th>\n",
       "      <th>SSTA_Maximum</th>\n",
       "      <th>SSTA_Frequency</th>\n",
       "    </tr>\n",
       "  </thead>\n",
       "  <tbody>\n",
       "    <tr>\n",
       "      <th>0</th>\n",
       "      <td>Atlantic</td>\n",
       "      <td>8519.23</td>\n",
       "      <td>Exposed</td>\n",
       "      <td>0.0287</td>\n",
       "      <td>49.90</td>\n",
       "      <td>10</td>\n",
       "      <td>50.2</td>\n",
       "      <td>302.05</td>\n",
       "      <td>300.67</td>\n",
       "      <td>296.72</td>\n",
       "      <td>304.69</td>\n",
       "      <td>8</td>\n",
       "      <td>-0.46</td>\n",
       "      <td>2.24</td>\n",
       "      <td>0</td>\n",
       "    </tr>\n",
       "    <tr>\n",
       "      <th>1</th>\n",
       "      <td>Pacific</td>\n",
       "      <td>1431.62</td>\n",
       "      <td>Exposed</td>\n",
       "      <td>0.0262</td>\n",
       "      <td>51.20</td>\n",
       "      <td>14</td>\n",
       "      <td>50.7</td>\n",
       "      <td>303.30</td>\n",
       "      <td>300.73</td>\n",
       "      <td>297.58</td>\n",
       "      <td>305.01</td>\n",
       "      <td>2</td>\n",
       "      <td>1.29</td>\n",
       "      <td>3.1</td>\n",
       "      <td>0.5</td>\n",
       "    </tr>\n",
       "    <tr>\n",
       "      <th>2</th>\n",
       "      <td>Atlantic</td>\n",
       "      <td>182.33</td>\n",
       "      <td>Exposed</td>\n",
       "      <td>0.0429</td>\n",
       "      <td>61.52</td>\n",
       "      <td>7</td>\n",
       "      <td>50.9</td>\n",
       "      <td>299.18</td>\n",
       "      <td>300.32</td>\n",
       "      <td>297.12</td>\n",
       "      <td>304.14</td>\n",
       "      <td>8</td>\n",
       "      <td>0.04</td>\n",
       "      <td>2.83</td>\n",
       "      <td>16</td>\n",
       "    </tr>\n",
       "    <tr>\n",
       "      <th>3</th>\n",
       "      <td>Atlantic</td>\n",
       "      <td>313.13</td>\n",
       "      <td>Exposed</td>\n",
       "      <td>0.0424</td>\n",
       "      <td>65.39</td>\n",
       "      <td>9.02</td>\n",
       "      <td>50.9</td>\n",
       "      <td>299.61</td>\n",
       "      <td>300.38</td>\n",
       "      <td>297.25</td>\n",
       "      <td>304.07</td>\n",
       "      <td>3</td>\n",
       "      <td>-0.07</td>\n",
       "      <td>2.47</td>\n",
       "      <td>22</td>\n",
       "    </tr>\n",
       "    <tr>\n",
       "      <th>4</th>\n",
       "      <td>Atlantic</td>\n",
       "      <td>792.0</td>\n",
       "      <td>Exposed</td>\n",
       "      <td>0.0424</td>\n",
       "      <td>65.39</td>\n",
       "      <td>12.50</td>\n",
       "      <td>50.9</td>\n",
       "      <td>299.7</td>\n",
       "      <td>300.38</td>\n",
       "      <td>296.63</td>\n",
       "      <td>303.76</td>\n",
       "      <td>3</td>\n",
       "      <td>0</td>\n",
       "      <td>2.3</td>\n",
       "      <td>16</td>\n",
       "    </tr>\n",
       "  </tbody>\n",
       "</table>\n",
       "</div>"
      ],
      "text/plain": [
       "  Ocean_Name Distance_to_Shore Exposure Turbidity  Cyclone_Frequency Depth_m  \\\n",
       "0   Atlantic           8519.23  Exposed    0.0287              49.90      10   \n",
       "1    Pacific           1431.62  Exposed    0.0262              51.20      14   \n",
       "2   Atlantic            182.33  Exposed    0.0429              61.52       7   \n",
       "3   Atlantic            313.13  Exposed    0.0424              65.39    9.02   \n",
       "4   Atlantic             792.0  Exposed    0.0424              65.39   12.50   \n",
       "\n",
       "   Percent_Bleaching Temperature_Kelvin Temperature_Mean Temperature_Minimum  \\\n",
       "0               50.2             302.05           300.67              296.72   \n",
       "1               50.7             303.30           300.73              297.58   \n",
       "2               50.9             299.18           300.32              297.12   \n",
       "3               50.9             299.61           300.38              297.25   \n",
       "4               50.9              299.7           300.38              296.63   \n",
       "\n",
       "  Temperature_Maximum Windspeed   SSTA SSTA_Maximum SSTA_Frequency  \n",
       "0              304.69         8  -0.46         2.24              0  \n",
       "1              305.01         2   1.29          3.1            0.5  \n",
       "2              304.14         8   0.04         2.83             16  \n",
       "3              304.07         3  -0.07         2.47             22  \n",
       "4              303.76         3      0          2.3             16  "
      ]
     },
     "execution_count": 99,
     "metadata": {},
     "output_type": "execute_result"
    }
   ],
   "source": [
    "coral.head()"
   ]
  },
  {
   "cell_type": "code",
   "execution_count": 100,
   "id": "31e9c475",
   "metadata": {},
   "outputs": [
    {
     "data": {
      "text/plain": [
       "(32714, 15)"
      ]
     },
     "execution_count": 100,
     "metadata": {},
     "output_type": "execute_result"
    }
   ],
   "source": [
    "np.shape(coral)"
   ]
  },
  {
   "cell_type": "code",
   "execution_count": 101,
   "id": "692e7bee",
   "metadata": {},
   "outputs": [
    {
     "data": {
      "text/plain": [
       "Ocean_Name                5\n",
       "Distance_to_Shore      9953\n",
       "Exposure                  3\n",
       "Turbidity              2020\n",
       "Cyclone_Frequency      1299\n",
       "Depth_m                 468\n",
       "Percent_Bleaching      2137\n",
       "Temperature_Kelvin     1170\n",
       "Temperature_Mean        739\n",
       "Temperature_Minimum     887\n",
       "Temperature_Maximum     587\n",
       "Windspeed                18\n",
       "SSTA                    621\n",
       "SSTA_Maximum            505\n",
       "SSTA_Frequency          372\n",
       "dtype: int64"
      ]
     },
     "execution_count": 101,
     "metadata": {},
     "output_type": "execute_result"
    }
   ],
   "source": [
    "coral.nunique()"
   ]
  },
  {
   "cell_type": "code",
   "execution_count": 102,
   "id": "215da1b0",
   "metadata": {},
   "outputs": [],
   "source": [
    "coral.to_csv(\"Clean_Coral_Data.csv\", header=True,index=False)"
   ]
  },
  {
   "cell_type": "code",
   "execution_count": 104,
   "id": "3039ba78",
   "metadata": {},
   "outputs": [
    {
     "data": {
      "text/plain": [
       "(16177, 15)"
      ]
     },
     "execution_count": 104,
     "metadata": {},
     "output_type": "execute_result"
    }
   ],
   "source": [
    "#For models that only account for bleaching-affected corals\n",
    "coral = coral[coral['Percent_Bleaching'] > 0]\n",
    "coral.to_csv(\"Clean_Coral_Data_NoZeros.csv\", header=True,index=False)\n",
    "np.shape(coral)"
   ]
  },
  {
   "cell_type": "code",
   "execution_count": 107,
   "id": "e6625c5e",
   "metadata": {},
   "outputs": [
    {
     "data": {
      "text/plain": [
       "(6110, 15)"
      ]
     },
     "execution_count": 107,
     "metadata": {},
     "output_type": "execute_result"
    }
   ],
   "source": [
    "#For models that only account for bleaching-affected corals above 10%\n",
    "coral = coral[coral['Percent_Bleaching'] >= 10]\n",
    "coral.to_csv(\"Clean_Coral_Data_10perc.csv\", header=True,index=False)\n",
    "np.shape(coral)"
   ]
  },
  {
   "cell_type": "code",
   "execution_count": null,
   "id": "2c577211",
   "metadata": {},
   "outputs": [],
   "source": []
  }
 ],
 "metadata": {
  "kernelspec": {
   "display_name": "Python 3 (ipykernel)",
   "language": "python",
   "name": "python3"
  },
  "language_info": {
   "codemirror_mode": {
    "name": "ipython",
    "version": 3
   },
   "file_extension": ".py",
   "mimetype": "text/x-python",
   "name": "python",
   "nbconvert_exporter": "python",
   "pygments_lexer": "ipython3",
   "version": "3.8.18"
  }
 },
 "nbformat": 4,
 "nbformat_minor": 5
}
